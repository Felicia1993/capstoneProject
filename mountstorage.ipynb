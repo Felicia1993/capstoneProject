{
 "cells": [
  {
   "cell_type": "code",
   "execution_count": 0,
   "metadata": {
    "application/vnd.databricks.v1+cell": {
     "cellMetadata": {
      "byteLimit": 2048000,
      "rowLimit": 10000
     },
     "inputWidgets": {},
     "nuid": "43aa0f51-1756-4b6b-90e3-29c3d40851f0",
     "showTitle": false,
     "title": ""
    }
   },
   "outputs": [
    {
     "output_type": "stream",
     "name": "stdout",
     "output_type": "stream",
     "text": [
      "Out[1]: True"
     ]
    }
   ],
   "source": [
    "configs = {\n",
    "  \"fs.azure.account.auth.type\": \"CustomAccessToken\",\n",
    "  \"fs.azure.account.custom.token.provider.class\": spark.conf.get(\"spark.databricks.passthrough.adls.gen2.tokenProviderClassName\")\n",
    "}\n",
    "\n",
    "# Optionally, you can add <directory-name> to the source URI of your mount point.\n",
    "dbutils.fs.mount(\n",
    "  source = \"abfss://transformtest1@justforgen2.dfs.core.windows.net/\",\n",
    "  mount_point = \"/mnt/transformtest1\",\n",
    "  extra_configs = configs)"
   ]
  },
  {
   "cell_type": "code",
   "execution_count": 0,
   "metadata": {
    "application/vnd.databricks.v1+cell": {
     "cellMetadata": {
      "byteLimit": 2048000,
      "rowLimit": 10000
     },
     "inputWidgets": {},
     "nuid": "ede38af0-7fc2-497b-a676-a2c4e1526929",
     "showTitle": false,
     "title": ""
    }
   },
   "outputs": [
    {
     "output_type": "stream",
     "name": "stdout",
     "output_type": "stream",
     "text": [
      "Out[4]: [FileInfo(path='dbfs:/mnt/transformtest1/bronze/0fac9eb3-60e0-4a52-8255-4e5382695c82.parquet', name='0fac9eb3-60e0-4a52-8255-4e5382695c82.parquet', size=226201, modificationTime=1699301690000),\n FileInfo(path='dbfs:/mnt/transformtest1/bronze/3905572e-6b4d-450f-91ab-2bba90968679.parquet', name='3905572e-6b4d-450f-91ab-2bba90968679.parquet', size=226201, modificationTime=1699302609000),\n FileInfo(path='dbfs:/mnt/transformtest1/bronze/3d1285f4-888a-4b9a-a168-2174e47d9ea8.parquet', name='3d1285f4-888a-4b9a-a168-2174e47d9ea8.parquet', size=1823, modificationTime=1699302606000),\n FileInfo(path='dbfs:/mnt/transformtest1/bronze/6f79888a-e298-4be8-999c-190c181a384d.parquet', name='6f79888a-e298-4be8-999c-190c181a384d.parquet', size=10116, modificationTime=1699302606000),\n FileInfo(path='dbfs:/mnt/transformtest1/bronze/85783b57-e9ef-4791-8a33-24e5551af0a6.parquet', name='85783b57-e9ef-4791-8a33-24e5551af0a6.parquet', size=9313, modificationTime=1699302606000)]"
     ]
    }
   ],
   "source": [
    "dbutils.fs.ls('/mnt/transformtest1/bronze')"
   ]
  },
  {
   "cell_type": "code",
   "execution_count": 0,
   "metadata": {
    "application/vnd.databricks.v1+cell": {
     "cellMetadata": {
      "byteLimit": 2048000,
      "rowLimit": 10000
     },
     "inputWidgets": {},
     "nuid": "72d4f98f-1b8a-4492-9c5a-42a71c87a93b",
     "showTitle": false,
     "title": ""
    }
   },
   "outputs": [
    {
     "output_type": "stream",
     "name": "stdout",
     "output_type": "stream",
     "text": [
      "root\n |-- Name: string (nullable = true)\n |-- Country: string (nullable = true)\n |-- Discipline: string (nullable = true)\n |-- Event: string (nullable = true)\n\nNumber of flights in the database:  394\n+---------------------------+--------------------------+-----------------+--------+\n|Name                       |Country                   |Discipline       |Event   |\n+---------------------------+--------------------------+-----------------+--------+\n|ABDELMAGID Wael            |Egypt                     |Football         |null    |\n|ABE Junya                  |Japan                     |Volleyball       |null    |\n|ABE Katsuhiko              |Japan                     |Basketball       |null    |\n|ADAMA Cherif               |C�te d'Ivoire             |Football         |null    |\n|AGEBA Yuya                 |Japan                     |Volleyball       |null    |\n|AIKMAN Siegfried Gottlieb  |Japan                     |Hockey           |Men     |\n|AL SAADI Kais              |Germany                   |Hockey           |Men     |\n|ALAMEDA Lonni              |Canada                    |Baseball/Softball|Softball|\n|ALEKNO Vladimir            |Islamic Republic of Iran  |Volleyball       |Men     |\n|ALEKSEEV Alexey            |ROC                       |Handball         |Women   |\n|ALLER CARBALLO Manuel Angel|Spain                     |Basketball       |null    |\n|ALSHEHRI Saad              |Saudi Arabia              |Football         |Men     |\n|ALY Kamal                  |Egypt                     |Football         |null    |\n|AMAYA GAITAN Fabian        |Puerto Rico               |Basketball       |null    |\n|AMO AGUADO Pablo           |Spain                     |Football         |null    |\n|ANDONOVSKI Vlatko          |United States of America  |Football         |Women   |\n|ANNAN Alyson               |Netherlands               |Hockey           |Women   |\n|ARNAU CREUS Xavier         |Japan                     |Hockey           |Women   |\n|ARNOLD Graham              |Australia                 |Football         |Men     |\n|AXNER Tomas                |Sweden                    |Handball         |Women   |\n|BABER Gareth Colin         |Fiji                      |Rugby Sevens     |Men     |\n|BACIU Horatiu              |Romania                   |Football         |null    |\n|BANBULA Wojciech           |Poland                    |Volleyball       |null    |\n|BAO Zhuang                 |People's Republic of China|Volleyball       |null    |\n|BARYLA Pawel               |ROC                       |Volleyball       |null    |\n+---------------------------+--------------------------+-----------------+--------+\nonly showing top 25 rows\n\n"
     ]
    }
   ],
   "source": [
    "# Read the existing parquet file for the database that was created earlier\n",
    "medal_df = spark.read.parquet(\"/mnt/transformtest1/bronze/coaches.parquet\")\n",
    "\n",
    "# Print the schema of the dataframe\n",
    "medal_df.printSchema()\n",
    "\n",
    "# Print the flight database size\n",
    "print(\"Number of flights in the database: \", medal_df.count())\n",
    "\n",
    "# Show the first 25 rows (20 is the default)\n",
    "# To show the first n rows, run: df.show(n)\n",
    "# The second parameter indicates that column lengths shouldn't be truncated (default is 20 characters)\n",
    "medal_df.show(25, False)\n",
    "\n",
    "# # You can also use the DataFrame to run simple queries. Results are returned in a DataFrame.\n",
    "# # Show the first 25 rows of the results of a query that returns selected colums for all flights originating from airports in Texas\n",
    "# flight_df.select(\"TeamName\", \"Country\", \"Discipline\").filter(\"Country='Norway'\").show(1,False)\n",
    "\n",
    "# # # Use display to run visualizations\n",
    "# # # Preferably run this in a separate cmd cell\n",
    "# display(flight_df)"
   ]
  },
  {
   "cell_type": "code",
   "execution_count": 0,
   "metadata": {
    "application/vnd.databricks.v1+cell": {
     "cellMetadata": {
      "byteLimit": 2048000,
      "rowLimit": 10000
     },
     "inputWidgets": {},
     "nuid": "40c06144-aeae-420a-8b62-988280ff724a",
     "showTitle": false,
     "title": ""
    }
   },
   "outputs": [
    {
     "output_type": "stream",
     "name": "stdout",
     "output_type": "stream",
     "text": [
      "+--------------------+---+\n|             Country|num|\n+--------------------+---+\n|United States of ...|615|\n|               Japan|586|\n|           Australia|470|\n|People's Republic...|401|\n|             Germany|400|\n|              France|377|\n|              Canada|368|\n|       Great Britain|366|\n|               Italy|356|\n|               Spain|324|\n|                 ROC|318|\n|              Brazil|291|\n|         Netherlands|274|\n|   Republic of Korea|223|\n|         New Zealand|202|\n|              Poland|195|\n|           Argentina|180|\n|        South Africa|171|\n|              Mexico|155|\n|             Hungary|155|\n+--------------------+---+\nonly showing top 20 rows\n\nathletes in Spain:  324\n"
     ]
    }
   ],
   "source": [
    "# create a temporary sql view for querying athletes information\n",
    "atheletes_data = spark.read.parquet('/mnt/transformtest1/bronze/athletes.parquet')\n",
    "atheletes_data.createOrReplaceTempView('AtheletesTable')\n",
    "\n",
    "# Print the total number of athletes  (the number of rows in the athletes data).\n",
    "# print(\"Number of athletes: \", atheletes_data.count())\n",
    "# atheletes_data.show(25, False)\n",
    "\n",
    "# # Using spark sql, query the parquet file to return the total athletes of each country\n",
    "num_flights_by_airline=spark.sql(\"SELECT Country, count(*) AS num FROM AtheletesTable GROUP BY Country ORDER BY num desc\")\n",
    "num_flights_by_airline.show()\n",
    "\n",
    "# List out all the athletes in Spain\n",
    "athletes_in_spain = spark.sql(\n",
    "    \"SELECT DISTINCT(PersonName) FROM AtheletesTable WHERE Country = 'Spain'\")\n",
    "print('athletes in Spain: ', athletes_in_spain.count())\n",
    "# athletes_in_spain.show(100, False)\n",
    "\n",
    "\n"
   ]
  }
 ],
 "metadata": {
  "application/vnd.databricks.v1+notebook": {
   "dashboards": [],
   "language": "python",
   "notebookMetadata": {
    "pythonIndentUnit": 4
   },
   "notebookName": "mountstorage",
   "widgets": {}
  }
 },
 "nbformat": 4,
 "nbformat_minor": 0
}
